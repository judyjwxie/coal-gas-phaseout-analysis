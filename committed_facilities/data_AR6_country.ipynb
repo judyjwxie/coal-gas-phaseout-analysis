{
 "cells": [
  {
   "cell_type": "code",
   "execution_count": 1,
   "id": "2b8e18f7-5a84-47e6-8c7d-a5a6b5a1187c",
   "metadata": {
    "tags": []
   },
   "outputs": [],
   "source": [
    "import pandas as pd\n",
    "import numpy as np\n",
    "from ipynb.fs.full.interp_data import interpolate_scenario_data"
   ]
  },
  {
   "cell_type": "code",
   "execution_count": 11,
   "id": "23d09923-3dcc-4dbd-97a5-b48cdee52728",
   "metadata": {
    "tags": []
   },
   "outputs": [],
   "source": [
    "import warnings\n",
    "warnings.filterwarnings('ignore')"
   ]
  },
  {
   "cell_type": "markdown",
   "id": "6b58dd40-6de0-44ee-b2db-e43c19c7cd4e",
   "metadata": {},
   "source": [
    "# Load AR6 Country Level Data"
   ]
  },
  {
   "cell_type": "code",
   "execution_count": 3,
   "id": "2281ddb9-455e-40c3-8695-739f16b5cb2d",
   "metadata": {
    "tags": []
   },
   "outputs": [],
   "source": [
    "C1_c = \"#649B1C\"\n",
    "C2_c = \"#00B593\"\n",
    "C3_c = \"#4E84D4\""
   ]
  },
  {
   "cell_type": "code",
   "execution_count": 4,
   "id": "a206ba5b-93c0-45c2-a15b-92159898eacd",
   "metadata": {
    "tags": []
   },
   "outputs": [],
   "source": [
    "# load data\n",
    "ar6_world = pd.read_csv(\"../../data/AR6_data/1668008131197-AR6_Scenarios_Database_ISO3_v1.1.csv/AR6_Scenarios_Database_ISO3_v1.1.csv\")\n",
    "ar6_scen = pd.read_excel(\"../../data/AR6_data/AR6_Scenarios_Database_World_v1.1/AR6_Scenarios_Database_metadata_indicators_v1.1.xlsx\",sheet_name = \"meta_Ch3vetted_withclimate\")"
   ]
  },
  {
   "cell_type": "code",
   "execution_count": 5,
   "id": "dc6ed1d4-d0ed-48ba-9e67-5a485c82287a",
   "metadata": {
    "tags": []
   },
   "outputs": [],
   "source": [
    "ar6_scen_123 = ar6_scen[ar6_scen[\"Category\"].isin([\"C1\",\"C2\",\"C3\"])]"
   ]
  },
  {
   "cell_type": "code",
   "execution_count": 14,
   "id": "e9a1467b-153a-434e-9fe4-9dd09a4dfee8",
   "metadata": {
    "tags": []
   },
   "outputs": [
    {
     "data": {
      "text/html": [
       "<div>\n",
       "<style scoped>\n",
       "    .dataframe tbody tr th:only-of-type {\n",
       "        vertical-align: middle;\n",
       "    }\n",
       "\n",
       "    .dataframe tbody tr th {\n",
       "        vertical-align: top;\n",
       "    }\n",
       "\n",
       "    .dataframe thead th {\n",
       "        text-align: right;\n",
       "    }\n",
       "</style>\n",
       "<table border=\"1\" class=\"dataframe\">\n",
       "  <thead>\n",
       "    <tr style=\"text-align: right;\">\n",
       "      <th></th>\n",
       "      <th>Model</th>\n",
       "      <th>Scenario</th>\n",
       "      <th>Category</th>\n",
       "      <th>Region</th>\n",
       "      <th>Year</th>\n",
       "      <th>Capacity|Electricity|Gas|w/o CCS</th>\n",
       "    </tr>\n",
       "  </thead>\n",
       "  <tbody>\n",
       "    <tr>\n",
       "      <th>158257</th>\n",
       "      <td>IMAGE 3.2</td>\n",
       "      <td>SSP2_SPA1_19I_LIRE_LB</td>\n",
       "      <td>C1</td>\n",
       "      <td>RUS</td>\n",
       "      <td>2034</td>\n",
       "      <td>158.151826</td>\n",
       "    </tr>\n",
       "    <tr>\n",
       "      <th>57785</th>\n",
       "      <td>IMAGE 3.2</td>\n",
       "      <td>SSP1_SPA1_19I_RE_LB</td>\n",
       "      <td>C1</td>\n",
       "      <td>BRA</td>\n",
       "      <td>2024</td>\n",
       "      <td>34.873025</td>\n",
       "    </tr>\n",
       "    <tr>\n",
       "      <th>57786</th>\n",
       "      <td>IMAGE 3.2</td>\n",
       "      <td>SSP1_SPA1_19I_RE_LB</td>\n",
       "      <td>C1</td>\n",
       "      <td>CAN</td>\n",
       "      <td>2024</td>\n",
       "      <td>41.864216</td>\n",
       "    </tr>\n",
       "    <tr>\n",
       "      <th>57787</th>\n",
       "      <td>IMAGE 3.2</td>\n",
       "      <td>SSP1_SPA1_19I_RE_LB</td>\n",
       "      <td>C1</td>\n",
       "      <td>CHN</td>\n",
       "      <td>2024</td>\n",
       "      <td>336.585053</td>\n",
       "    </tr>\n",
       "    <tr>\n",
       "      <th>57788</th>\n",
       "      <td>IMAGE 3.2</td>\n",
       "      <td>SSP1_SPA1_19I_RE_LB</td>\n",
       "      <td>C1</td>\n",
       "      <td>EU</td>\n",
       "      <td>2024</td>\n",
       "      <td>235.772709</td>\n",
       "    </tr>\n",
       "    <tr>\n",
       "      <th>...</th>\n",
       "      <td>...</td>\n",
       "      <td>...</td>\n",
       "      <td>...</td>\n",
       "      <td>...</td>\n",
       "      <td>...</td>\n",
       "      <td>...</td>\n",
       "    </tr>\n",
       "    <tr>\n",
       "      <th>153330</th>\n",
       "      <td>TIAM-ECN 1.1</td>\n",
       "      <td>EN_INDCi2030_900f</td>\n",
       "      <td>C3</td>\n",
       "      <td>CAN</td>\n",
       "      <td>2032</td>\n",
       "      <td>35.760304</td>\n",
       "    </tr>\n",
       "    <tr>\n",
       "      <th>153331</th>\n",
       "      <td>TIAM-ECN 1.1</td>\n",
       "      <td>EN_INDCi2030_900f</td>\n",
       "      <td>C3</td>\n",
       "      <td>CHL</td>\n",
       "      <td>2032</td>\n",
       "      <td>10.540196</td>\n",
       "    </tr>\n",
       "    <tr>\n",
       "      <th>153332</th>\n",
       "      <td>TIAM-ECN 1.1</td>\n",
       "      <td>EN_INDCi2030_900f</td>\n",
       "      <td>C3</td>\n",
       "      <td>CHN</td>\n",
       "      <td>2032</td>\n",
       "      <td>199.464042</td>\n",
       "    </tr>\n",
       "    <tr>\n",
       "      <th>153333</th>\n",
       "      <td>TIAM-ECN 1.1</td>\n",
       "      <td>EN_INDCi2030_900f</td>\n",
       "      <td>C3</td>\n",
       "      <td>COL</td>\n",
       "      <td>2032</td>\n",
       "      <td>8.311784</td>\n",
       "    </tr>\n",
       "    <tr>\n",
       "      <th>153335</th>\n",
       "      <td>TIAM-ECN 1.1</td>\n",
       "      <td>EN_INDCi2030_900f</td>\n",
       "      <td>C3</td>\n",
       "      <td>EGY</td>\n",
       "      <td>2032</td>\n",
       "      <td>23.731588</td>\n",
       "    </tr>\n",
       "  </tbody>\n",
       "</table>\n",
       "<p>103726 rows × 6 columns</p>\n",
       "</div>"
      ],
      "text/plain": [
       "               Model               Scenario Category Region  Year  \\\n",
       "158257     IMAGE 3.2  SSP2_SPA1_19I_LIRE_LB       C1    RUS  2034   \n",
       "57785      IMAGE 3.2    SSP1_SPA1_19I_RE_LB       C1    BRA  2024   \n",
       "57786      IMAGE 3.2    SSP1_SPA1_19I_RE_LB       C1    CAN  2024   \n",
       "57787      IMAGE 3.2    SSP1_SPA1_19I_RE_LB       C1    CHN  2024   \n",
       "57788      IMAGE 3.2    SSP1_SPA1_19I_RE_LB       C1     EU  2024   \n",
       "...              ...                    ...      ...    ...   ...   \n",
       "153330  TIAM-ECN 1.1      EN_INDCi2030_900f       C3    CAN  2032   \n",
       "153331  TIAM-ECN 1.1      EN_INDCi2030_900f       C3    CHL  2032   \n",
       "153332  TIAM-ECN 1.1      EN_INDCi2030_900f       C3    CHN  2032   \n",
       "153333  TIAM-ECN 1.1      EN_INDCi2030_900f       C3    COL  2032   \n",
       "153335  TIAM-ECN 1.1      EN_INDCi2030_900f       C3    EGY  2032   \n",
       "\n",
       "        Capacity|Electricity|Gas|w/o CCS  \n",
       "158257                        158.151826  \n",
       "57785                          34.873025  \n",
       "57786                          41.864216  \n",
       "57787                         336.585053  \n",
       "57788                         235.772709  \n",
       "...                                  ...  \n",
       "153330                         35.760304  \n",
       "153331                         10.540196  \n",
       "153332                        199.464042  \n",
       "153333                          8.311784  \n",
       "153335                         23.731588  \n",
       "\n",
       "[103726 rows x 6 columns]"
      ]
     },
     "execution_count": 14,
     "metadata": {},
     "output_type": "execute_result"
    }
   ],
   "source": [
    "for tech in ['Coal','Gas']:\n",
    "    var_name = \"Capacity|Electricity|\"+tech+\"|w/o CCS\"\n",
    "    ar6_world_select = ar6_world.query(\"Variable==@var_name\")\n",
    "    ar6_world_select = interpolate_scenario_data(ar6_world_select)\n",
    "    ar6_world_select = pd.merge(ar6_world_select,ar6_scen_123[[\"Model\",\"Scenario\",\"Category\"]],\n",
    "                                  left_on=[\"Model\",\"Scenario\"],right_on=[\"Model\",\"Scenario\"])\n",
    "    ar6_world_select_melt = pd.melt(ar6_world_select,id_vars=[\"Model\",\"Scenario\",\"Category\",\"Region\"],\n",
    "                                    value_vars=ar6_world_select.columns[5:-1],var_name=\"Year\",value_name=var_name).dropna()\n",
    "    ar6_world_select_melt[\"Year\"] = ar6_world_select_melt[\"Year\"].astype(int)\n",
    "    ar6_world_select_melt = ar6_world_select_melt.sort_values(\"Category\")\n",
    "    ar6_world_select_melt = ar6_world_select_melt[ar6_world_select_melt[\"Year\"]>=2020]\n",
    "    ar6_world_select_melt = ar6_world_select_melt[ar6_world_select_melt[\"Year\"]<=2050]\n",
    "    ar6_world_select_melt.set_index(\"Model\").to_csv(\"AR6_\"+tech+\"_GW.csv\")\n",
    "ar6_world_select_melt"
   ]
  },
  {
   "cell_type": "code",
   "execution_count": null,
   "id": "92d26c80-7002-4976-ab99-15d883de04be",
   "metadata": {},
   "outputs": [],
   "source": []
  }
 ],
 "metadata": {
  "kernelspec": {
   "display_name": "Python 3 (ipykernel)",
   "language": "python",
   "name": "python3"
  },
  "language_info": {
   "codemirror_mode": {
    "name": "ipython",
    "version": 3
   },
   "file_extension": ".py",
   "mimetype": "text/x-python",
   "name": "python",
   "nbconvert_exporter": "python",
   "pygments_lexer": "ipython3",
   "version": "3.8.17"
  }
 },
 "nbformat": 4,
 "nbformat_minor": 5
}
