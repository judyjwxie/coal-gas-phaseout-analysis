{
 "cells": [
  {
   "cell_type": "code",
   "execution_count": 1,
   "id": "5808cdc2-e193-46c2-8e72-46f9f36c6239",
   "metadata": {
    "tags": []
   },
   "outputs": [],
   "source": [
    "import pandas as pd\n",
    "import numpy as np\n",
    "from ipynb.fs.full.interp_data import interpolate_scenario_data"
   ]
  },
  {
   "cell_type": "markdown",
   "id": "61882781-4e30-48df-b3c7-b4fbb40e8aa2",
   "metadata": {},
   "source": [
    "Extract data from AR6 database\n",
    "- \"Capacity|Electricity\" GW\n",
    "- \"Final Energy|Electricity\" EJ/yr"
   ]
  },
  {
   "cell_type": "code",
   "execution_count": 2,
   "id": "1c153591-76a1-467b-b969-0a5798c90c92",
   "metadata": {
    "tags": []
   },
   "outputs": [],
   "source": [
    "# load data\n",
    "ar6_world = pd.read_csv(\"../../data/AR6_data/1668008174375-AR6_Scenarios_Database_R10_regions_v1.1.csv/AR6_Scenarios_Database_R10_regions_v1.1.csv\")\n",
    "ar6_scen = pd.read_excel(\"../../data/AR6_data/AR6_Scenarios_Database_World_v1.1/AR6_Scenarios_Database_metadata_indicators_v1.1.xlsx\",sheet_name = \"meta_Ch3vetted_withclimate\")"
   ]
  },
  {
   "cell_type": "code",
   "execution_count": 3,
   "id": "d8c0c530-a006-490d-922a-08e12606a02b",
   "metadata": {
    "tags": []
   },
   "outputs": [],
   "source": [
    "ar6_scen_123 = ar6_scen[ar6_scen[\"Category\"].isin([\"C1\",\"C2\",\"C3\"])]"
   ]
  },
  {
   "cell_type": "code",
   "execution_count": 8,
   "id": "bc43733f-40ee-4af8-bab1-8ac47e8f7823",
   "metadata": {
    "tags": []
   },
   "outputs": [],
   "source": [
    "#var = \"Capacity|Electricity\"\n",
    "#value_name = \"GW\"\n",
    "#file_name = \"AR6_Electricity_GW_R10_capacity.csv\"\n",
    "\n",
    "var_list = [\"Secondary Energy|Electricity\",\"Secondary Energy|Electricity|Coal|w/o CCS\",\n",
    "           \"Secondary Energy|Electricity|Gas|w/o CCS\",\"Secondary Energy|Electricity|Solar\",\n",
    "            \"Secondary Energy|Electricity|Wind\"]\n",
    "value_name_list  = [\"EJ/yr\",\"EJ/yr\",\"EJ/yr\",\"EJ/yr\",\"EJ/yr\"]\n",
    "file_name_list = [\"AR6_SecEnergy_el_R10.csv\",\"AR6_coal_el_R10.csv\",\"AR6_gas_el_R10.csv\",\n",
    "                 \"AR6_solar_el_R10.csv\",\"AR6_wind_el_R10.csv\"]\n",
    "\n",
    "for i in np.arange(len(var_list)): \n",
    "    var = var_list[i]\n",
    "    value_name = value_name_list[i]\n",
    "    file_name = file_name_list[i]\n",
    "    ar6_world_coal = ar6_world.query(\"Variable==@var\")\n",
    "    ar6_world_coal = interpolate_scenario_data(ar6_world_coal)\n",
    "    ar6_world_coal = pd.merge(ar6_world_coal,ar6_scen_123[[\"Model\",\"Scenario\",\"Category\"]],\n",
    "                                  left_on=[\"Model\",\"Scenario\"],right_on=[\"Model\",\"Scenario\"])\n",
    "    ar6_world_coal_melt = pd.melt(ar6_world_coal,id_vars=[\"Model\",\"Scenario\",\"Category\",\"Region\"],value_vars=ar6_world_coal.columns[5:-1],var_name=\"Year\",value_name=value_name).dropna()\n",
    "    ar6_world_coal_melt[\"Year\"] = ar6_world_coal_melt[\"Year\"].astype(int)\n",
    "    ar6_world_coal_melt = ar6_world_coal_melt.sort_values(\"Category\")\n",
    "    ar6_world_coal_melt.set_index(\"Model\").to_csv(file_name)\n",
    "ar6_world_coal_melt"
   ]
  },
  {
   "cell_type": "code",
   "execution_count": null,
   "id": "5829b4e8-c474-4367-b9c9-7654793bc64c",
   "metadata": {},
   "outputs": [],
   "source": []
  }
 ],
 "metadata": {
  "kernelspec": {
   "display_name": "Python 3 (ipykernel)",
   "language": "python",
   "name": "python3"
  },
  "language_info": {
   "codemirror_mode": {
    "name": "ipython",
    "version": 3
   },
   "file_extension": ".py",
   "mimetype": "text/x-python",
   "name": "python",
   "nbconvert_exporter": "python",
   "pygments_lexer": "ipython3",
   "version": "3.8.17"
  }
 },
 "nbformat": 4,
 "nbformat_minor": 5
}
