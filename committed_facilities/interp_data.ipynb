{
 "cells": [
  {
   "cell_type": "code",
   "execution_count": 1,
   "id": "13d2fef7-dce1-4960-bf7e-2df0b13b8769",
   "metadata": {
    "tags": []
   },
   "outputs": [],
   "source": [
    "#import geopandas\n",
    "import pandas as pd\n",
    "import numpy as np"
   ]
  },
  {
   "cell_type": "code",
   "execution_count": 2,
   "id": "c38d483f-00bf-49f9-9597-4c41ce8ab714",
   "metadata": {
    "tags": []
   },
   "outputs": [],
   "source": [
    "def interpolate_scenario_data(data):\n",
    "    data_new = data.copy()\n",
    "    year_list = data.columns[5:]\n",
    "    for i in data.index:\n",
    "        this_data_row = data.loc[[i],:]\n",
    "        not_na_cols = this_data_row.columns[(this_data_row.isna()==False).any()][5:]\n",
    "        for col_i in np.arange(len(not_na_cols))[1:]:\n",
    "            start_col = not_na_cols[col_i-1]\n",
    "            end_col = not_na_cols[col_i]\n",
    "            start_year = int(start_col)\n",
    "            end_year = int(end_col)\n",
    "            year_gap = end_year-start_year\n",
    "            for mult in np.arange(year_gap-1)+1:\n",
    "                year_col = str(mult+start_year)\n",
    "                new_val = (data.loc[i,end_col]-data.loc[i,start_col])*mult/year_gap+data.loc[i,start_col]\n",
    "                data_new.loc[i,year_col] = new_val\n",
    "    return data_new "
   ]
  }
 ],
 "metadata": {
  "kernelspec": {
   "display_name": "Python 3 (ipykernel)",
   "language": "python",
   "name": "python3"
  },
  "language_info": {
   "codemirror_mode": {
    "name": "ipython",
    "version": 3
   },
   "file_extension": ".py",
   "mimetype": "text/x-python",
   "name": "python",
   "nbconvert_exporter": "python",
   "pygments_lexer": "ipython3",
   "version": "3.8.17"
  }
 },
 "nbformat": 4,
 "nbformat_minor": 5
}
