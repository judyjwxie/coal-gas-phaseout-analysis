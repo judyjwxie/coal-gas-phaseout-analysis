{
 "cells": [
  {
   "cell_type": "code",
   "execution_count": 1,
   "id": "f8215552-244a-4cc9-8833-d52e891ba86b",
   "metadata": {
    "tags": []
   },
   "outputs": [],
   "source": [
    "import pandas as pd\n",
    "import numpy as np\n",
    "import glob"
   ]
  },
  {
   "cell_type": "markdown",
   "id": "4ca5f5af-0982-4bdb-a3eb-7aa5d0aba39d",
   "metadata": {},
   "source": [
    "## read the large BACI file "
   ]
  },
  {
   "cell_type": "code",
   "execution_count": 2,
   "id": "8ca0adce-2515-466d-bf99-2d2c4be9ac8e",
   "metadata": {
    "tags": []
   },
   "outputs": [],
   "source": [
    "BACI_dir = \"../../data/global_BACI/\""
   ]
  },
  {
   "cell_type": "code",
   "execution_count": 3,
   "id": "0f4d5644-1e59-4ebe-9d91-8381e99831eb",
   "metadata": {
    "tags": []
   },
   "outputs": [],
   "source": [
    "dirpath = \"BACI_HS92_V202301/BACI*.csv\"\n",
    "fpaths = glob.glob(BACI_dir+dirpath)"
   ]
  },
  {
   "cell_type": "code",
   "execution_count": 4,
   "id": "2177587d-08d4-443c-93d0-fcc02385269b",
   "metadata": {
    "tags": []
   },
   "outputs": [
    {
     "data": {
      "text/plain": [
       "[271111, 271121, 270111, 270112, 270119]"
      ]
     },
     "execution_count": 4,
     "metadata": {},
     "output_type": "execute_result"
    }
   ],
   "source": [
    "lng_code = [271111]\n",
    "gng_code = [271121]\n",
    "coal_code = [270111, 270112, 270119]\n",
    "all_products = lng_code + gng_code + coal_code\n",
    "all_products"
   ]
  },
  {
   "cell_type": "code",
   "execution_count": null,
   "id": "1e69abda-b77e-4730-b742-d2739842c71b",
   "metadata": {},
   "outputs": [],
   "source": [
    "for file in fpaths:\n",
    "    file_data = pd.read_csv(file)\n",
    "    file_data_product = file_data[file_data[\"k\"].isin(all_products)]\n",
    "    if file == fpaths[0]:\n",
    "        product_data = file_data_product\n",
    "    else:\n",
    "        product_data = pd.concat([product_data,file_data_product])\n",
    "product_data"
   ]
  },
  {
   "cell_type": "code",
   "execution_count": null,
   "id": "0b101e3f-6006-43e5-a923-5bac07e17648",
   "metadata": {},
   "outputs": [],
   "source": [
    "product_data.set_index(\"t\").to_csv(\"_selected_commodity_temporal.csv\")"
   ]
  }
 ],
 "metadata": {
  "kernelspec": {
   "display_name": "Python 3 (ipykernel)",
   "language": "python",
   "name": "python3"
  },
  "language_info": {
   "codemirror_mode": {
    "name": "ipython",
    "version": 3
   },
   "file_extension": ".py",
   "mimetype": "text/x-python",
   "name": "python",
   "nbconvert_exporter": "python",
   "pygments_lexer": "ipython3",
   "version": "3.8.17"
  }
 },
 "nbformat": 4,
 "nbformat_minor": 5
}
