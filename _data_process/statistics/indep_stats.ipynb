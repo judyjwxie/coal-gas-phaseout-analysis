{
 "cells": [
  {
   "cell_type": "code",
   "execution_count": 1,
   "id": "bccded6f-95b0-409a-bdee-6258a93bcc40",
   "metadata": {
    "tags": []
   },
   "outputs": [],
   "source": [
    "import pandas as pd\n",
    "import numpy as np"
   ]
  },
  {
   "cell_type": "code",
   "execution_count": 29,
   "id": "724f0808-e179-40f8-9fe1-44534f5777ec",
   "metadata": {
    "tags": []
   },
   "outputs": [],
   "source": [
    "def calc_stats(select_data,year_colname,country_colname,variabel_colnames):\n",
    "    select_stats = pd.DataFrame(data={\"Variable\":variabel_colnames,\"Mean\":np.nan,\n",
    "                      \"STD\":np.nan, \"Min\":np.nan, \"Max\":np.nan\n",
    "                      }).set_index(\"Variable\")\n",
    "    for i in variabel_colnames:\n",
    "        this_select_data = select_data[[year_colname,country_colname,i]].dropna()\n",
    "        select_stats[\"N\"] = len(this_select_data)\n",
    "        select_stats[\"Year Range\"] = str(int(this_select_data[year_colname].min()))+\"-\"+str(int(this_select_data[year_colname].max()))\n",
    "        select_stats[\"Number of Countries\"] = len(this_select_data[country_colname].unique())\n",
    "        select_stats.loc[i,\"Mean\"] = round(this_select_data[i].mean(),2)\n",
    "        select_stats.loc[i,\"STD\"] = round(this_select_data[i].std(),2)\n",
    "        select_stats.loc[i,\"Min\"] = round(this_select_data[i].min(),2)\n",
    "        select_stats.loc[i,\"Max\"] = round(this_select_data[i].max(),)\n",
    "    return select_stats"
   ]
  },
  {
   "cell_type": "code",
   "execution_count": 30,
   "id": "435cbd31-7237-4847-b47b-7864cdd2b71d",
   "metadata": {
    "tags": []
   },
   "outputs": [
    {
     "data": {
      "text/html": [
       "<div>\n",
       "<style scoped>\n",
       "    .dataframe tbody tr th:only-of-type {\n",
       "        vertical-align: middle;\n",
       "    }\n",
       "\n",
       "    .dataframe tbody tr th {\n",
       "        vertical-align: top;\n",
       "    }\n",
       "\n",
       "    .dataframe thead th {\n",
       "        text-align: right;\n",
       "    }\n",
       "</style>\n",
       "<table border=\"1\" class=\"dataframe\">\n",
       "  <thead>\n",
       "    <tr style=\"text-align: right;\">\n",
       "      <th></th>\n",
       "      <th>Mean</th>\n",
       "      <th>STD</th>\n",
       "      <th>Min</th>\n",
       "      <th>Max</th>\n",
       "      <th>N</th>\n",
       "      <th>Year Range</th>\n",
       "      <th>Number of Countries</th>\n",
       "    </tr>\n",
       "    <tr>\n",
       "      <th>Variable</th>\n",
       "      <th></th>\n",
       "      <th></th>\n",
       "      <th></th>\n",
       "      <th></th>\n",
       "      <th></th>\n",
       "      <th></th>\n",
       "      <th></th>\n",
       "    </tr>\n",
       "  </thead>\n",
       "  <tbody>\n",
       "    <tr>\n",
       "      <th>Survey_Belief_%</th>\n",
       "      <td>42.85</td>\n",
       "      <td>10.52</td>\n",
       "      <td>16.0</td>\n",
       "      <td>65.0</td>\n",
       "      <td>141</td>\n",
       "      <td>2021-2022</td>\n",
       "      <td>111</td>\n",
       "    </tr>\n",
       "  </tbody>\n",
       "</table>\n",
       "</div>"
      ],
      "text/plain": [
       "                  Mean    STD   Min   Max    N Year Range  Number of Countries\n",
       "Variable                                                                      \n",
       "Survey_Belief_%  42.85  10.52  16.0  65.0  141  2021-2022                  111"
      ]
     },
     "execution_count": 30,
     "metadata": {},
     "output_type": "execute_result"
    }
   ],
   "source": [
    "climate_opinion = pd.read_csv(\"../_all_temporal_climate_opinion.csv\")\n",
    "year_colname = \"year\"\n",
    "country_colname = \"country\"\n",
    "variabel_colnames = [\"Survey_Belief_%\"]\n",
    "climate_stats = calc_stats(climate_opinion,year_colname,country_colname,variabel_colnames)\n",
    "climate_stats"
   ]
  },
  {
   "cell_type": "code",
   "execution_count": 31,
   "id": "f27621c6-6e43-488d-9eea-48d43098b879",
   "metadata": {
    "tags": []
   },
   "outputs": [
    {
     "data": {
      "text/html": [
       "<div>\n",
       "<style scoped>\n",
       "    .dataframe tbody tr th:only-of-type {\n",
       "        vertical-align: middle;\n",
       "    }\n",
       "\n",
       "    .dataframe tbody tr th {\n",
       "        vertical-align: top;\n",
       "    }\n",
       "\n",
       "    .dataframe thead th {\n",
       "        text-align: right;\n",
       "    }\n",
       "</style>\n",
       "<table border=\"1\" class=\"dataframe\">\n",
       "  <thead>\n",
       "    <tr style=\"text-align: right;\">\n",
       "      <th></th>\n",
       "      <th>Mean</th>\n",
       "      <th>STD</th>\n",
       "      <th>Min</th>\n",
       "      <th>Max</th>\n",
       "      <th>N</th>\n",
       "      <th>Year Range</th>\n",
       "      <th>Number of Countries</th>\n",
       "    </tr>\n",
       "    <tr>\n",
       "      <th>Variable</th>\n",
       "      <th></th>\n",
       "      <th></th>\n",
       "      <th></th>\n",
       "      <th></th>\n",
       "      <th></th>\n",
       "      <th></th>\n",
       "      <th></th>\n",
       "    </tr>\n",
       "  </thead>\n",
       "  <tbody>\n",
       "    <tr>\n",
       "      <th>R_Choice</th>\n",
       "      <td>0.13</td>\n",
       "      <td>0.34</td>\n",
       "      <td>0.0</td>\n",
       "      <td>1.0</td>\n",
       "      <td>7298</td>\n",
       "      <td>1982-2022</td>\n",
       "      <td>178</td>\n",
       "    </tr>\n",
       "  </tbody>\n",
       "</table>\n",
       "</div>"
      ],
      "text/plain": [
       "          Mean   STD  Min  Max     N Year Range  Number of Countries\n",
       "Variable                                                            \n",
       "R_Choice  0.13  0.34  0.0  1.0  7298  1982-2022                  178"
      ]
     },
     "execution_count": 31,
     "metadata": {},
     "output_type": "execute_result"
    }
   ],
   "source": [
    "power_reform = pd.read_csv(\"../_all_temporal_power_reform.csv\")\n",
    "year_colname = \"year\"\n",
    "country_colname = \"country\"\n",
    "variabel_colnames = [\"R_Choice\"]\n",
    "power_stats = calc_stats(power_reform,year_colname,country_colname,variabel_colnames)\n",
    "power_stats"
   ]
  },
  {
   "cell_type": "code",
   "execution_count": 32,
   "id": "37475b24-b716-47fb-876f-aade184f5f8a",
   "metadata": {
    "tags": []
   },
   "outputs": [
    {
     "data": {
      "text/html": [
       "<div>\n",
       "<style scoped>\n",
       "    .dataframe tbody tr th:only-of-type {\n",
       "        vertical-align: middle;\n",
       "    }\n",
       "\n",
       "    .dataframe tbody tr th {\n",
       "        vertical-align: top;\n",
       "    }\n",
       "\n",
       "    .dataframe thead th {\n",
       "        text-align: right;\n",
       "    }\n",
       "</style>\n",
       "<table border=\"1\" class=\"dataframe\">\n",
       "  <thead>\n",
       "    <tr style=\"text-align: right;\">\n",
       "      <th></th>\n",
       "      <th>Mean</th>\n",
       "      <th>STD</th>\n",
       "      <th>Min</th>\n",
       "      <th>Max</th>\n",
       "      <th>N</th>\n",
       "      <th>Year Range</th>\n",
       "      <th>Number of Countries</th>\n",
       "    </tr>\n",
       "    <tr>\n",
       "      <th>Variable</th>\n",
       "      <th></th>\n",
       "      <th></th>\n",
       "      <th></th>\n",
       "      <th></th>\n",
       "      <th></th>\n",
       "      <th></th>\n",
       "      <th></th>\n",
       "    </tr>\n",
       "  </thead>\n",
       "  <tbody>\n",
       "    <tr>\n",
       "      <th>num_supply_policy</th>\n",
       "      <td>1.64</td>\n",
       "      <td>2.88</td>\n",
       "      <td>0.0</td>\n",
       "      <td>22.0</td>\n",
       "      <td>8272</td>\n",
       "      <td>1980-2023</td>\n",
       "      <td>188</td>\n",
       "    </tr>\n",
       "    <tr>\n",
       "      <th>annex_one</th>\n",
       "      <td>0.15</td>\n",
       "      <td>0.36</td>\n",
       "      <td>0.0</td>\n",
       "      <td>1.0</td>\n",
       "      <td>8272</td>\n",
       "      <td>1980-2023</td>\n",
       "      <td>188</td>\n",
       "    </tr>\n",
       "  </tbody>\n",
       "</table>\n",
       "</div>"
      ],
      "text/plain": [
       "                   Mean   STD  Min   Max     N Year Range  Number of Countries\n",
       "Variable                                                                      \n",
       "num_supply_policy  1.64  2.88  0.0  22.0  8272  1980-2023                  188\n",
       "annex_one          0.15  0.36  0.0   1.0  8272  1980-2023                  188"
      ]
     },
     "execution_count": 32,
     "metadata": {},
     "output_type": "execute_result"
    }
   ],
   "source": [
    "policy = pd.read_csv(\"../_all_temporal_policy.csv\")\n",
    "year_colname = \"Year\"\n",
    "country_colname = \"ISO\"\n",
    "variabel_colnames = [\"num_supply_policy\",\"annex_one\"]\n",
    "policy_stats = calc_stats(policy,year_colname,country_colname,variabel_colnames)\n",
    "policy_stats"
   ]
  },
  {
   "cell_type": "code",
   "execution_count": 33,
   "id": "ab2e2eac-9d9a-4570-b083-0b694efe1f20",
   "metadata": {
    "tags": []
   },
   "outputs": [
    {
     "data": {
      "text/html": [
       "<div>\n",
       "<style scoped>\n",
       "    .dataframe tbody tr th:only-of-type {\n",
       "        vertical-align: middle;\n",
       "    }\n",
       "\n",
       "    .dataframe tbody tr th {\n",
       "        vertical-align: top;\n",
       "    }\n",
       "\n",
       "    .dataframe thead th {\n",
       "        text-align: right;\n",
       "    }\n",
       "</style>\n",
       "<table border=\"1\" class=\"dataframe\">\n",
       "  <thead>\n",
       "    <tr style=\"text-align: right;\">\n",
       "      <th></th>\n",
       "      <th>Mean</th>\n",
       "      <th>STD</th>\n",
       "      <th>Min</th>\n",
       "      <th>Max</th>\n",
       "      <th>N</th>\n",
       "      <th>Year Range</th>\n",
       "      <th>Number of Countries</th>\n",
       "    </tr>\n",
       "    <tr>\n",
       "      <th>Variable</th>\n",
       "      <th></th>\n",
       "      <th></th>\n",
       "      <th></th>\n",
       "      <th></th>\n",
       "      <th></th>\n",
       "      <th></th>\n",
       "      <th></th>\n",
       "    </tr>\n",
       "  </thead>\n",
       "  <tbody>\n",
       "    <tr>\n",
       "      <th>logGDPpc</th>\n",
       "      <td>9.13</td>\n",
       "      <td>1.17</td>\n",
       "      <td>6.08</td>\n",
       "      <td>12.0</td>\n",
       "      <td>9290</td>\n",
       "      <td>1960-2022</td>\n",
       "      <td>248</td>\n",
       "    </tr>\n",
       "    <tr>\n",
       "      <th>WDI_NG_El_%</th>\n",
       "      <td>18.10</td>\n",
       "      <td>26.00</td>\n",
       "      <td>0.00</td>\n",
       "      <td>100.0</td>\n",
       "      <td>9290</td>\n",
       "      <td>1960-2022</td>\n",
       "      <td>248</td>\n",
       "    </tr>\n",
       "    <tr>\n",
       "      <th>WDI_Coal_El_%</th>\n",
       "      <td>18.65</td>\n",
       "      <td>25.74</td>\n",
       "      <td>0.00</td>\n",
       "      <td>100.0</td>\n",
       "      <td>9290</td>\n",
       "      <td>1960-2022</td>\n",
       "      <td>248</td>\n",
       "    </tr>\n",
       "  </tbody>\n",
       "</table>\n",
       "</div>"
      ],
      "text/plain": [
       "                Mean    STD   Min    Max     N Year Range  Number of Countries\n",
       "Variable                                                                      \n",
       "logGDPpc        9.13   1.17  6.08   12.0  9290  1960-2022                  248\n",
       "WDI_NG_El_%    18.10  26.00  0.00  100.0  9290  1960-2022                  248\n",
       "WDI_Coal_El_%  18.65  25.74  0.00  100.0  9290  1960-2022                  248"
      ]
     },
     "execution_count": 33,
     "metadata": {},
     "output_type": "execute_result"
    }
   ],
   "source": [
    "world_dev = pd.read_csv(\"../_all_temporal_world_development.csv\")\n",
    "year_colname = \"year\"\n",
    "country_colname = \"Country Code\"\n",
    "variabel_colnames = [\"logGDPpc\",\"WDI_NG_El_%\",\"WDI_Coal_El_%\"]\n",
    "world_dev_stats = calc_stats(world_dev,year_colname,country_colname,variabel_colnames)\n",
    "world_dev_stats"
   ]
  },
  {
   "cell_type": "code",
   "execution_count": 36,
   "id": "7407d992-86da-4e26-bcf0-fba9cb1c649b",
   "metadata": {
    "tags": []
   },
   "outputs": [
    {
     "data": {
      "text/html": [
       "<div>\n",
       "<style scoped>\n",
       "    .dataframe tbody tr th:only-of-type {\n",
       "        vertical-align: middle;\n",
       "    }\n",
       "\n",
       "    .dataframe tbody tr th {\n",
       "        vertical-align: top;\n",
       "    }\n",
       "\n",
       "    .dataframe thead th {\n",
       "        text-align: right;\n",
       "    }\n",
       "</style>\n",
       "<table border=\"1\" class=\"dataframe\">\n",
       "  <thead>\n",
       "    <tr style=\"text-align: right;\">\n",
       "      <th></th>\n",
       "      <th>Mean</th>\n",
       "      <th>STD</th>\n",
       "      <th>Min</th>\n",
       "      <th>Max</th>\n",
       "      <th>N</th>\n",
       "      <th>Year Range</th>\n",
       "      <th>Number of Countries</th>\n",
       "    </tr>\n",
       "    <tr>\n",
       "      <th>Variable</th>\n",
       "      <th></th>\n",
       "      <th></th>\n",
       "      <th></th>\n",
       "      <th></th>\n",
       "      <th></th>\n",
       "      <th></th>\n",
       "      <th></th>\n",
       "    </tr>\n",
       "  </thead>\n",
       "  <tbody>\n",
       "    <tr>\n",
       "      <th>BP_GasR2P_yr</th>\n",
       "      <td>116.04</td>\n",
       "      <td>250.43</td>\n",
       "      <td>0.0</td>\n",
       "      <td>3170.0</td>\n",
       "      <td>2481</td>\n",
       "      <td>1980-2020</td>\n",
       "      <td>65</td>\n",
       "    </tr>\n",
       "  </tbody>\n",
       "</table>\n",
       "</div>"
      ],
      "text/plain": [
       "                Mean     STD  Min     Max     N Year Range  \\\n",
       "Variable                                                     \n",
       "BP_GasR2P_yr  116.04  250.43  0.0  3170.0  2481  1980-2020   \n",
       "\n",
       "              Number of Countries  \n",
       "Variable                           \n",
       "BP_GasR2P_yr                   65  "
      ]
     },
     "execution_count": 36,
     "metadata": {},
     "output_type": "execute_result"
    }
   ],
   "source": [
    "BP_data = pd.read_csv(\"../_all_temporal_BPstats.csv\")\n",
    "year_colname = \"year\"\n",
    "country_colname = \"country\"\n",
    "variabel_colnames = [\"BP_GasR2P_yr\"]\n",
    "BP_stats = calc_stats(BP_data,year_colname,country_colname,variabel_colnames)\n",
    "BP_stats"
   ]
  },
  {
   "cell_type": "code",
   "execution_count": 49,
   "id": "c989ce1c-dd23-4f54-932d-30c9106b2082",
   "metadata": {
    "tags": []
   },
   "outputs": [
    {
     "data": {
      "text/html": [
       "<div>\n",
       "<style scoped>\n",
       "    .dataframe tbody tr th:only-of-type {\n",
       "        vertical-align: middle;\n",
       "    }\n",
       "\n",
       "    .dataframe tbody tr th {\n",
       "        vertical-align: top;\n",
       "    }\n",
       "\n",
       "    .dataframe thead th {\n",
       "        text-align: right;\n",
       "    }\n",
       "</style>\n",
       "<table border=\"1\" class=\"dataframe\">\n",
       "  <thead>\n",
       "    <tr style=\"text-align: right;\">\n",
       "      <th></th>\n",
       "      <th>Mean</th>\n",
       "      <th>STD</th>\n",
       "      <th>Min</th>\n",
       "      <th>Max</th>\n",
       "      <th>N</th>\n",
       "      <th>Year Range</th>\n",
       "      <th>Number of Countries</th>\n",
       "    </tr>\n",
       "    <tr>\n",
       "      <th>Variable</th>\n",
       "      <th></th>\n",
       "      <th></th>\n",
       "      <th></th>\n",
       "      <th></th>\n",
       "      <th></th>\n",
       "      <th></th>\n",
       "      <th></th>\n",
       "    </tr>\n",
       "  </thead>\n",
       "  <tbody>\n",
       "    <tr>\n",
       "      <th>HHI_Coal_Import</th>\n",
       "      <td>0.67</td>\n",
       "      <td>0.31</td>\n",
       "      <td>0.00</td>\n",
       "      <td>1.0</td>\n",
       "      <td>4668</td>\n",
       "      <td>1995-2021</td>\n",
       "      <td>225</td>\n",
       "    </tr>\n",
       "    <tr>\n",
       "      <th>NetValue_Coal_ImportK</th>\n",
       "      <td>0.00</td>\n",
       "      <td>3496.93</td>\n",
       "      <td>-52647.65</td>\n",
       "      <td>28314.0</td>\n",
       "      <td>4668</td>\n",
       "      <td>1995-2021</td>\n",
       "      <td>225</td>\n",
       "    </tr>\n",
       "  </tbody>\n",
       "</table>\n",
       "</div>"
      ],
      "text/plain": [
       "                       Mean      STD       Min      Max     N Year Range  \\\n",
       "Variable                                                                   \n",
       "HHI_Coal_Import        0.67     0.31      0.00      1.0  4668  1995-2021   \n",
       "NetValue_Coal_ImportK  0.00  3496.93 -52647.65  28314.0  4668  1995-2021   \n",
       "\n",
       "                       Number of Countries  \n",
       "Variable                                    \n",
       "HHI_Coal_Import                        225  \n",
       "NetValue_Coal_ImportK                  225  "
      ]
     },
     "execution_count": 49,
     "metadata": {},
     "output_type": "execute_result"
    }
   ],
   "source": [
    "coal_trade_data = pd.read_csv(\"../_temporal_BACI_DGD_Coal_both.csv\")\n",
    "coal_trade_data[\"NetValue_Coal_ImportK\"] = coal_trade_data[\"NetValue_Coal_Import\"]/1000\n",
    "coal_trade_data = coal_trade_data[coal_trade_data[\"year\"]!=0]\n",
    "year_colname = \"year\"\n",
    "country_colname = \"country\"\n",
    "variabel_colnames = [\"HHI_Coal_Import\",\"NetValue_Coal_ImportK\"]\n",
    "coal_trade_stats = calc_stats(coal_trade_data,year_colname,country_colname,variabel_colnames)\n",
    "coal_trade_stats"
   ]
  },
  {
   "cell_type": "code",
   "execution_count": 50,
   "id": "3c615eec-ef55-4e07-b413-d8c227a38761",
   "metadata": {
    "tags": []
   },
   "outputs": [
    {
     "data": {
      "text/html": [
       "<div>\n",
       "<style scoped>\n",
       "    .dataframe tbody tr th:only-of-type {\n",
       "        vertical-align: middle;\n",
       "    }\n",
       "\n",
       "    .dataframe tbody tr th {\n",
       "        vertical-align: top;\n",
       "    }\n",
       "\n",
       "    .dataframe thead th {\n",
       "        text-align: right;\n",
       "    }\n",
       "</style>\n",
       "<table border=\"1\" class=\"dataframe\">\n",
       "  <thead>\n",
       "    <tr style=\"text-align: right;\">\n",
       "      <th></th>\n",
       "      <th>Mean</th>\n",
       "      <th>STD</th>\n",
       "      <th>Min</th>\n",
       "      <th>Max</th>\n",
       "      <th>N</th>\n",
       "      <th>Year Range</th>\n",
       "      <th>Number of Countries</th>\n",
       "    </tr>\n",
       "    <tr>\n",
       "      <th>Variable</th>\n",
       "      <th></th>\n",
       "      <th></th>\n",
       "      <th></th>\n",
       "      <th></th>\n",
       "      <th></th>\n",
       "      <th></th>\n",
       "      <th></th>\n",
       "    </tr>\n",
       "  </thead>\n",
       "  <tbody>\n",
       "    <tr>\n",
       "      <th>HHI_Gas_Import</th>\n",
       "      <td>0.75</td>\n",
       "      <td>0.32</td>\n",
       "      <td>0.00</td>\n",
       "      <td>1.0</td>\n",
       "      <td>4370</td>\n",
       "      <td>1995-2021</td>\n",
       "      <td>223</td>\n",
       "    </tr>\n",
       "    <tr>\n",
       "      <th>NetValue_Gas_ImportK</th>\n",
       "      <td>-0.00</td>\n",
       "      <td>5721.25</td>\n",
       "      <td>-68586.15</td>\n",
       "      <td>71566.0</td>\n",
       "      <td>4370</td>\n",
       "      <td>1995-2021</td>\n",
       "      <td>223</td>\n",
       "    </tr>\n",
       "  </tbody>\n",
       "</table>\n",
       "</div>"
      ],
      "text/plain": [
       "                      Mean      STD       Min      Max     N Year Range  \\\n",
       "Variable                                                                  \n",
       "HHI_Gas_Import        0.75     0.32      0.00      1.0  4370  1995-2021   \n",
       "NetValue_Gas_ImportK -0.00  5721.25 -68586.15  71566.0  4370  1995-2021   \n",
       "\n",
       "                      Number of Countries  \n",
       "Variable                                   \n",
       "HHI_Gas_Import                        223  \n",
       "NetValue_Gas_ImportK                  223  "
      ]
     },
     "execution_count": 50,
     "metadata": {},
     "output_type": "execute_result"
    }
   ],
   "source": [
    "gas_trade_data = pd.read_csv(\"../_temporal_BACI_DGD_Gas_both.csv\")\n",
    "gas_trade_data[\"NetValue_Gas_ImportK\"] = gas_trade_data[\"NetValue_Gas_Import\"]/1000\n",
    "gas_trade_data = gas_trade_data[gas_trade_data[\"year\"]!=0]\n",
    "year_colname = \"year\"\n",
    "country_colname = \"country\"\n",
    "variabel_colnames = [\"HHI_Gas_Import\",\"NetValue_Gas_ImportK\"] # thousand current USD\n",
    "gas_trade_stats = calc_stats(gas_trade_data,year_colname,country_colname,variabel_colnames)\n",
    "gas_trade_stats"
   ]
  },
  {
   "cell_type": "code",
   "execution_count": 51,
   "id": "3abbaf8f-734b-42e8-b02f-d49bf2478cd0",
   "metadata": {
    "tags": []
   },
   "outputs": [],
   "source": [
    "all_data = pd.concat([climate_stats,power_stats,policy_stats,world_dev_stats,BP_stats,\n",
    "          coal_trade_stats,gas_trade_stats])\n",
    "all_data.to_csv(\"indep_stats.csv\")"
   ]
  },
  {
   "cell_type": "code",
   "execution_count": 48,
   "id": "c592ef21-a980-4f37-898b-6804cb4f028c",
   "metadata": {
    "tags": []
   },
   "outputs": [
    {
     "data": {
      "text/plain": [
       "0       1092030.077\n",
       "1       1320689.101\n",
       "2       1413984.196\n",
       "3       1451715.165\n",
       "4       1234508.643\n",
       "           ...     \n",
       "4366     -79489.364\n",
       "4367     -69958.203\n",
       "4368     -54089.686\n",
       "4369         -0.131\n",
       "4370     -19223.858\n",
       "Name: NetValue_Gas_Import, Length: 4370, dtype: float64"
      ]
     },
     "execution_count": 48,
     "metadata": {},
     "output_type": "execute_result"
    }
   ],
   "source": [
    "gas_trade_data[\"NetValue_Gas_Import\"]"
   ]
  },
  {
   "cell_type": "code",
   "execution_count": null,
   "id": "82869a81-c822-4672-b5ca-84a7e7b51612",
   "metadata": {},
   "outputs": [],
   "source": []
  }
 ],
 "metadata": {
  "kernelspec": {
   "display_name": "Python 3 (ipykernel)",
   "language": "python",
   "name": "python3"
  },
  "language_info": {
   "codemirror_mode": {
    "name": "ipython",
    "version": 3
   },
   "file_extension": ".py",
   "mimetype": "text/x-python",
   "name": "python",
   "nbconvert_exporter": "python",
   "pygments_lexer": "ipython3",
   "version": "3.8.17"
  }
 },
 "nbformat": 4,
 "nbformat_minor": 5
}
